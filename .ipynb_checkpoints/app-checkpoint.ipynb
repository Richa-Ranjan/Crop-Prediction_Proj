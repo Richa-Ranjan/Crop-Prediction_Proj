{
 "cells": [
  {
   "cell_type": "code",
   "execution_count": 1,
   "id": "413313b1",
   "metadata": {},
   "outputs": [
    {
     "name": "stdout",
     "output_type": "stream",
     "text": [
      " * Serving Flask app '__main__'\n",
      " * Debug mode: on\n"
     ]
    },
    {
     "name": "stderr",
     "output_type": "stream",
     "text": [
      "WARNING: This is a development server. Do not use it in a production deployment. Use a production WSGI server instead.\n",
      " * Running on http://127.0.0.1:5000\n",
      "Press CTRL+C to quit\n",
      " * Restarting with watchdog (windowsapi)\n"
     ]
    },
    {
     "ename": "SystemExit",
     "evalue": "1",
     "output_type": "error",
     "traceback": [
      "An exception has occurred, use %tb to see the full traceback.\n",
      "\u001b[1;31mSystemExit\u001b[0m\u001b[1;31m:\u001b[0m 1\n"
     ]
    },
    {
     "name": "stderr",
     "output_type": "stream",
     "text": [
      "C:\\ProgramData\\anaconda3\\Lib\\site-packages\\IPython\\core\\interactiveshell.py:3534: UserWarning: To exit: use 'exit', 'quit', or Ctrl-D.\n",
      "  warn(\"To exit: use 'exit', 'quit', or Ctrl-D.\", stacklevel=1)\n"
     ]
    }
   ],
   "source": [
    "from flask import Flask, request, render_template_string\n",
    "import pickle\n",
    "import numpy as np\n",
    "\n",
    "app = Flask(__name__)\n",
    "\n",
    "# Load your trained model\n",
    "model = pickle.load(open('model.pkl', 'rb'))\n",
    "\n",
    "# Load your HTML file content\n",
    "with open('crop_prediction.html', 'r') as file:\n",
    "    html_template = file.read()\n",
    "\n",
    "\n",
    "@app.route('/')\n",
    "def home():\n",
    "    return render_template_string(html_template)\n",
    "\n",
    "@app.route('/predict', methods=['POST'])\n",
    "def predict():\n",
    "    try:\n",
    "        n = float(request.form['N'])\n",
    "        p = float(request.form['P'])\n",
    "        k = float(request.form['K'])\n",
    "        temp = float(request.form['temperature'])\n",
    "        humidity = float(request.form['humidity'])\n",
    "        ph = float(request.form['ph'])\n",
    "        rainfall = float(request.form['rainfall'])\n",
    "\n",
    "\n",
    "        features = np.array([[n, p, k, temp, humidity, ph, rainfall]])\n",
    "        prediction = model.predict(features)\n",
    "        crop = prediction[0]\n",
    "\n",
    "        return render_template_string(html_template, prediction_text=f'Recommended Crop: {crop}')\n",
    "    except Exception as e:\n",
    "        return render_template_string(html_template, prediction_text=f\"Error: {str(e)}\")\n",
    "\n",
    "if __name__ == '__main__':\n",
    "    app.run(debug=True)\n"
   ]
  },
  {
   "cell_type": "code",
   "execution_count": null,
   "id": "77fdb092",
   "metadata": {},
   "outputs": [],
   "source": []
  }
 ],
 "metadata": {
  "kernelspec": {
   "display_name": "Python 3 (ipykernel)",
   "language": "python",
   "name": "python3"
  },
  "language_info": {
   "codemirror_mode": {
    "name": "ipython",
    "version": 3
   },
   "file_extension": ".py",
   "mimetype": "text/x-python",
   "name": "python",
   "nbconvert_exporter": "python",
   "pygments_lexer": "ipython3",
   "version": "3.11.5"
  }
 },
 "nbformat": 4,
 "nbformat_minor": 5
}
