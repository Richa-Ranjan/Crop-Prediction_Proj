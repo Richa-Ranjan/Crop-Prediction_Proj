{
 "cells": [
  {
   "cell_type": "code",
   "execution_count": null,
   "id": "413313b1",
   "metadata": {},
   "outputs": [
    {
     "name": "stdout",
     "output_type": "stream",
     "text": [
      " * Serving Flask app '__main__'\n",
      " * Debug mode: off\n"
     ]
    },
    {
     "name": "stderr",
     "output_type": "stream",
     "text": [
      "WARNING: This is a development server. Do not use it in a production deployment. Use a production WSGI server instead.\n",
      " * Running on http://127.0.0.1:5000\n",
      "Press CTRL+C to quit\n",
      "127.0.0.1 - - [27/Jul/2025 00:52:16] \"GET / HTTP/1.1\" 200 -\n",
      "127.0.0.1 - - [27/Jul/2025 00:52:16] \"GET /favicon.ico HTTP/1.1\" 404 -\n"
     ]
    }
   ],
   "source": [
    "# STEP 2: Apply nest_asyncio to avoid event loop issues\n",
    "import nest_asyncio\n",
    "nest_asyncio.apply()\n",
    "\n",
    "# STEP 3: Full Flask App Code (Jupyter Compatible)\n",
    "from flask import Flask, request, render_template_string\n",
    "import pickle\n",
    "import numpy as np\n",
    "\n",
    "# Initialize the app\n",
    "app = Flask(__name__)\n",
    "\n",
    "# Load your trained model\n",
    "model = pickle.load(open('model.pkl', 'rb'))\n",
    "\n",
    "# Load your HTML content from file\n",
    "with open('crop_prediction.html', 'r') as file:\n",
    "    html_template = file.read()\n",
    "\n",
    "# Define home route\n",
    "@app.route('/')\n",
    "def home():\n",
    "    return render_template_string(html_template)\n",
    "\n",
    "# Define predict route\n",
    "@app.route('/predict', methods=['POST'])\n",
    "def predict():\n",
    "    try:\n",
    "        n = float(request.form['N'])\n",
    "        p = float(request.form['P'])\n",
    "        k = float(request.form['K'])\n",
    "        temp = float(request.form['temperature'])\n",
    "        humidity = float(request.form['humidity'])\n",
    "        ph = float(request.form['ph'])\n",
    "        rainfall = float(request.form['rainfall'])\n",
    "\n",
    "        features = np.array([[n, p, k, temp, humidity, ph, rainfall]])\n",
    "        prediction = model.predict(features)\n",
    "        crop = prediction[0]\n",
    "\n",
    "        return render_template_string(html_template, prediction_text=f'Recommended Crop: {crop}')\n",
    "    except Exception as e:\n",
    "        return render_template_string(html_template, prediction_text=f\"Error: {str(e)}\")\n",
    "\n",
    "# STEP 4: Run the Flask app\n",
    "app.run(port=5000)  # Do NOT use debug=True in Jupyter\n"
   ]
  },
  {
   "cell_type": "code",
   "execution_count": 2,
   "id": "77fdb092",
   "metadata": {},
   "outputs": [
    {
     "name": "stdout",
     "output_type": "stream",
     "text": [
      "Defaulting to user installation because normal site-packages is not writeable\n",
      "Requirement already satisfied: nest_asyncio in c:\\programdata\\anaconda3\\lib\\site-packages (1.5.6)\n"
     ]
    }
   ],
   "source": [
    "!pip install nest_asyncio\n"
   ]
  },
  {
   "cell_type": "code",
   "execution_count": null,
   "id": "388150e0",
   "metadata": {},
   "outputs": [],
   "source": []
  }
 ],
 "metadata": {
  "kernelspec": {
   "display_name": "Python 3 (ipykernel)",
   "language": "python",
   "name": "python3"
  },
  "language_info": {
   "codemirror_mode": {
    "name": "ipython",
    "version": 3
   },
   "file_extension": ".py",
   "mimetype": "text/x-python",
   "name": "python",
   "nbconvert_exporter": "python",
   "pygments_lexer": "ipython3",
   "version": "3.11.5"
  }
 },
 "nbformat": 4,
 "nbformat_minor": 5
}
